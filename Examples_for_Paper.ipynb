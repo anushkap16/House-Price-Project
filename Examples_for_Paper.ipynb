{
 "cells": [
  {
   "cell_type": "markdown",
   "id": "253d0ed6",
   "metadata": {},
   "source": [
    "# Examples for Paper"
   ]
  },
  {
   "cell_type": "code",
   "execution_count": 1,
   "id": "f6f94192-4572-438d-afa9-c0cce72ecb02",
   "metadata": {},
   "outputs": [],
   "source": [
    "import matplotlib.pyplot as plt\n",
    "import numpy as np\n",
    "import pandas as pd"
   ]
  },
  {
   "cell_type": "code",
   "execution_count": 2,
   "id": "b61e8a77-47c2-4b31-ba72-92a9e7288930",
   "metadata": {},
   "outputs": [],
   "source": [
    "train = pd.read_csv(\"train.csv\")\n",
    "test = pd.read_csv(\"test.csv\")"
   ]
  },
  {
   "cell_type": "code",
   "execution_count": 3,
   "id": "745b60e7-23ab-4c1d-b619-6e691ee06925",
   "metadata": {},
   "outputs": [],
   "source": [
    "house = pd.concat([train.iloc[:, range(1,80)], test.iloc[:, range(1,80)]]) \n",
    "house = house.reset_index(drop=True)"
   ]
  },
  {
   "cell_type": "markdown",
   "id": "64770f76-a589-433c-ae30-e76ab80c33b7",
   "metadata": {
    "jp-MarkdownHeadingCollapsed": true
   },
   "source": [
    "## Unrealistic and Missing Data"
   ]
  },
  {
   "cell_type": "code",
   "execution_count": 4,
   "id": "28b71867-2532-46ae-9021-cbc5aee81fa4",
   "metadata": {},
   "outputs": [
    {
     "name": "stdout",
     "output_type": "stream",
     "text": [
      "Example of unrealistic data in the feature GarageYrBlt: The year 2207.0.\n"
     ]
    }
   ],
   "source": [
    "# Unrealistic data example in the feature GarageYrBlt.\n",
    "GarageYrBlt_unrealistic_data = house.loc[2592, \"GarageYrBlt\"]\n",
    "print(f\"Example of unrealistic data in the feature GarageYrBlt: The year {GarageYrBlt_unrealistic_data}.\")"
   ]
  },
  {
   "cell_type": "code",
   "execution_count": 5,
   "id": "b3a13849-5df9-4f6e-aeca-590a87ca8963",
   "metadata": {},
   "outputs": [
    {
     "name": "stdout",
     "output_type": "stream",
     "text": [
      "The unrealistic year 2207.0 is now the realistic year 2007.\n"
     ]
    }
   ],
   "source": [
    "# The year 2007 makes sense.\n",
    "GarageYrBlt_realistic_data = house.loc[2592, \"GarageYrBlt\"] = 2007\n",
    "print(f\"The unrealistic year {GarageYrBlt_unrealistic_data} is now the realistic year {GarageYrBlt_realistic_data}.\")"
   ]
  },
  {
   "cell_type": "code",
   "execution_count": 6,
   "id": "87dd7bba-3f47-4bfb-a086-06c25bb652c4",
   "metadata": {},
   "outputs": [
    {
     "name": "stdout",
     "output_type": "stream",
     "text": [
      "There are 159 null values in the feature quantitative feature GarageYrBlt.\n"
     ]
    }
   ],
   "source": [
    "# Null values in the quantitative feature GarageYrBlt.\n",
    "GarageYrBlt_NA = np.sum(house[\"GarageYrBlt\"].isnull().sum())\n",
    "print(f\"There are {GarageYrBlt_NA} null values in the feature quantitative feature GarageYrBlt.\")"
   ]
  },
  {
   "cell_type": "code",
   "execution_count": 7,
   "id": "3a48bd9b-e004-4c75-adc8-596f55c993a8",
   "metadata": {},
   "outputs": [],
   "source": [
    "# Replaces the null values with the mean of the feature.\n",
    "mean_value = house[\"GarageYrBlt\"].mean()\n",
    "house[\"GarageYrBlt\"] = house[\"GarageYrBlt\"].mask(house[\"GarageYrBlt\"].isnull(), mean_value)"
   ]
  },
  {
   "cell_type": "code",
   "execution_count": 8,
   "id": "ba79c19a-8976-45dc-b9c6-ba3cda22e46a",
   "metadata": {},
   "outputs": [
    {
     "name": "stdout",
     "output_type": "stream",
     "text": [
      "There are 0 null values in the quantitative feature GarageYrBlt.\n"
     ]
    }
   ],
   "source": [
    "# Null values in the feature GarageYrBlt.\n",
    "GarageYrBlt_NA_after = np.sum(house[\"GarageYrBlt\"].isnull().sum())\n",
    "print(f\"There are {GarageYrBlt_NA_after} null values in the quantitative feature GarageYrBlt.\")"
   ]
  },
  {
   "cell_type": "code",
   "execution_count": 9,
   "id": "23df339c-eb66-4911-b130-768fd3e93743",
   "metadata": {},
   "outputs": [
    {
     "name": "stdout",
     "output_type": "stream",
     "text": [
      "Mean: 1978.0409420289855.\n"
     ]
    }
   ],
   "source": [
    "print(f\"Mean: {mean_value}.\")"
   ]
  },
  {
   "cell_type": "code",
   "execution_count": 10,
   "id": "581d30d9-c4ca-4f58-8566-7664605dd480",
   "metadata": {},
   "outputs": [
    {
     "name": "stdout",
     "output_type": "stream",
     "text": [
      "Mean: 1978.0409420289902\n"
     ]
    }
   ],
   "source": [
    "# The mean doesn't take the null values into consideration, so it is the mean of the values that are not null.\n",
    "sum = 0\n",
    "number = 0\n",
    "for i in house[\"GarageYrBlt\"]:\n",
    "    if i != 0:\n",
    "        sum += i\n",
    "        number += 1\n",
    "    else:\n",
    "        continue\n",
    "\n",
    "print(\"Mean:\", sum/number)"
   ]
  },
  {
   "cell_type": "code",
   "execution_count": 11,
   "id": "4fde4b3b-6cf4-438b-b5f9-7510d8313b57",
   "metadata": {},
   "outputs": [
    {
     "name": "stdout",
     "output_type": "stream",
     "text": [
      "There are 157 null values in the qualitative feature GarageType.\n"
     ]
    }
   ],
   "source": [
    "GarageType_NA = np.sum(house[\"GarageType\"].isnull().sum())\n",
    "print(f\"There are {GarageType_NA} null values in the qualitative feature GarageType.\")"
   ]
  },
  {
   "cell_type": "markdown",
   "id": "5969f84d-6646-401e-9a6c-037f789eb8d4",
   "metadata": {
    "jp-MarkdownHeadingCollapsed": true
   },
   "source": [
    "## Qualitative to Quantitative Data"
   ]
  },
  {
   "cell_type": "code",
   "execution_count": 12,
   "id": "efec79de-3a93-4c26-9635-548b522bb048",
   "metadata": {},
   "outputs": [],
   "source": [
    "house[\"GarageType_encoded\"], _ = pd.factorize(house[\"GarageType\"])"
   ]
  },
  {
   "cell_type": "code",
   "execution_count": 13,
   "id": "7bc8e620-9950-4ea8-95ef-f30edf6d4292",
   "metadata": {},
   "outputs": [],
   "source": [
    "# Replaces the null values with the mode of the feature.\n",
    "mode_value = house[\"GarageType\"].mode()[0]\n",
    "\n",
    "new_values = []\n",
    "for i in house[\"GarageType\"]:\n",
    "    if pd.isnull(i): # .isnull() determines whether a value is null\n",
    "        new_values.append(mode_value) # .append() adds element to list\n",
    "    else:\n",
    "        new_values.append(i)\n",
    "\n",
    "house[\"GarageType\"] = new_values"
   ]
  },
  {
   "cell_type": "code",
   "execution_count": 14,
   "id": "3d3b71b4-dbe7-450c-9dfa-c58a0b38f7be",
   "metadata": {},
   "outputs": [
    {
     "name": "stdout",
     "output_type": "stream",
     "text": [
      "There are 0 null values in the qualitative feature GarageType.\n"
     ]
    }
   ],
   "source": [
    "# Null values in the feature GarageYrBlt.\n",
    "GarageType_NA_after = np.sum(house[\"GarageType\"].isnull().sum())\n",
    "print(f\"There are {GarageType_NA_after} null values in the qualitative feature GarageType.\")"
   ]
  },
  {
   "cell_type": "code",
   "execution_count": 15,
   "id": "611d392d-9a6a-4ee7-b6a7-48714c53eb5d",
   "metadata": {},
   "outputs": [
    {
     "name": "stdout",
     "output_type": "stream",
     "text": [
      "Attchd\n"
     ]
    }
   ],
   "source": [
    "print(mode_value)"
   ]
  },
  {
   "cell_type": "code",
   "execution_count": 16,
   "id": "c518a86c-3b3e-4761-83ca-674b67084aef",
   "metadata": {},
   "outputs": [],
   "source": [
    "house[\"GarageType_encoded\"], _ = pd.factorize(house[\"GarageType\"])\n",
    "house.drop(columns=\"GarageType\", inplace=True)"
   ]
  },
  {
   "cell_type": "code",
   "execution_count": null,
   "id": "c7517d03-8c2f-4179-abc1-7bb8c6534af6",
   "metadata": {},
   "outputs": [],
   "source": []
  }
 ],
 "metadata": {
  "kernelspec": {
   "display_name": "Python 3 (ipykernel)",
   "language": "python",
   "name": "python3"
  },
  "language_info": {
   "codemirror_mode": {
    "name": "ipython",
    "version": 3
   },
   "file_extension": ".py",
   "mimetype": "text/x-python",
   "name": "python",
   "nbconvert_exporter": "python",
   "pygments_lexer": "ipython3",
   "version": "3.12.5"
  }
 },
 "nbformat": 4,
 "nbformat_minor": 5
}
