{
 "cells": [
  {
   "cell_type": "markdown",
   "id": "6149e5ca-ee1e-4c1a-89c7-d7d085af9792",
   "metadata": {},
   "source": [
    "# House Price Project"
   ]
  },
  {
   "cell_type": "markdown",
   "id": "27358aab-3cd4-4ee7-8e15-8fc9c476f515",
   "metadata": {
    "jp-MarkdownHeadingCollapsed": true
   },
   "source": [
    "## Past Work"
   ]
  },
  {
   "cell_type": "code",
   "execution_count": 3,
   "id": "470bc169-a5a0-447a-b99d-c14542912b4e",
   "metadata": {},
   "outputs": [],
   "source": [
    "import pandas\n",
    "import numpy as np\n",
    "from sklearn import datasets, linear_model\n",
    "from sklearn.linear_model import LinearRegression\n",
    "from sklearn.metrics import mean_squared_error, r2_score\n",
    "import statsmodels.api as sm\n",
    "from scipy import stats\n",
    "from matplotlib import pyplot as plt\n",
    "from sklearn.model_selection import train_test_split\n",
    "from sklearn.linear_model import ElasticNet\n",
    "import warnings"
   ]
  },
  {
   "cell_type": "code",
   "execution_count": 4,
   "id": "eee23107-452c-42a8-b893-65e03bec419f",
   "metadata": {},
   "outputs": [
    {
     "name": "stdout",
     "output_type": "stream",
     "text": [
      "                            OLS Regression Results                            \n",
      "==============================================================================\n",
      "Dep. Variable:              SalePrice   R-squared:                       0.846\n",
      "Model:                            OLS   Adj. R-squared:                  0.838\n",
      "Method:                 Least Squares   F-statistic:                     98.70\n",
      "Date:                Wed, 01 Jan 2025   Prob (F-statistic):               0.00\n",
      "Time:                        22:06:27   Log-Likelihood:                -17178.\n",
      "No. Observations:                1460   AIC:                         3.451e+04\n",
      "Df Residuals:                    1382   BIC:                         3.492e+04\n",
      "Df Model:                          77                                         \n",
      "Covariance Type:            nonrobust                                         \n",
      "=========================================================================================\n",
      "                            coef    std err          t      P>|t|      [0.025      0.975]\n",
      "-----------------------------------------------------------------------------------------\n",
      "const                 -8.558e+05   1.34e+06     -0.637      0.524   -3.49e+06    1.78e+06\n",
      "MSSubClass             -102.7561     45.966     -2.235      0.026    -192.927     -12.585\n",
      "LotFrontage             -93.5756     50.834     -1.841      0.066    -193.296       6.144\n",
      "LotArea                   0.4079      0.109      3.726      0.000       0.193       0.623\n",
      "OverallQual            1.451e+04   1154.309     12.569      0.000    1.22e+04    1.68e+04\n",
      "OverallCond            5734.8465   1042.909      5.499      0.000    3688.991    7780.702\n",
      "YearBuilt               406.5602     74.044      5.491      0.000     261.309     551.812\n",
      "YearRemodAdd            143.9782     69.060      2.085      0.037       8.505     279.451\n",
      "MasVnrArea               23.1911      5.810      3.992      0.000      11.794      34.588\n",
      "BsmtFinSF1                3.5505      2.846      1.247      0.212      -2.033       9.134\n",
      "BsmtFinSF2                9.6277      6.242      1.542      0.123      -2.618      21.873\n",
      "BsmtUnfSF                -3.6074      2.886     -1.250      0.211      -9.268       2.053\n",
      "TotalBsmtSF               9.5707      3.622      2.643      0.008       2.466      16.675\n",
      "1stFlrSF                 20.3472      6.026      3.376      0.001       8.526      32.169\n",
      "2ndFlrSF                 16.6967      5.749      2.904      0.004       5.419      27.974\n",
      "LowQualFinSF             -1.4920     14.344     -0.104      0.917     -29.631      26.647\n",
      "GrLivArea                35.5520      5.460      6.511      0.000      24.841      46.263\n",
      "BsmtFullBath           8024.6941   2527.832      3.175      0.002    3065.892     1.3e+04\n",
      "BsmtHalfBath            988.4002   3881.662      0.255      0.799   -6626.186    8602.987\n",
      "FullBath               6978.0692   2701.999      2.583      0.010    1677.607    1.23e+04\n",
      "HalfBath               -750.6182   2537.573     -0.296      0.767   -5728.529    4227.293\n",
      "BedroomAbvGr          -7467.3253   1637.643     -4.560      0.000   -1.07e+04   -4254.791\n",
      "KitchenAbvGr          -1.666e+04   5061.468     -3.292      0.001   -2.66e+04   -6735.352\n",
      "TotRmsAbvGrd           2895.7131   1207.452      2.398      0.017     527.075    5264.351\n",
      "Fireplaces             3837.3578   1831.295      2.095      0.036     244.939    7429.777\n",
      "GarageYrBlt              77.6087     67.247      1.154      0.249     -54.308     209.526\n",
      "GarageCars             1.093e+04   2734.598      3.996      0.000    5564.341    1.63e+04\n",
      "GarageArea               -1.2851      9.652     -0.133      0.894     -20.220      17.650\n",
      "WoodDeckSF               24.8842      7.568      3.288      0.001      10.039      39.730\n",
      "OpenPorchSF              10.0881     14.514      0.695      0.487     -18.384      38.561\n",
      "EnclosedPorch            12.5609     15.888      0.791      0.429     -18.606      43.728\n",
      "3SsnPorch                17.7763     29.337      0.606      0.545     -39.773      75.326\n",
      "ScreenPorch              54.0785     16.322      3.313      0.001      22.060      86.097\n",
      "PoolArea                -67.4338     32.983     -2.044      0.041    -132.136      -2.732\n",
      "MiscVal                   1.1901      1.991      0.598      0.550      -2.715       5.095\n",
      "MoSold                   30.9182    322.357      0.096      0.924    -601.443     663.280\n",
      "YrSold                 -219.2826    666.760     -0.329      0.742   -1527.253    1088.688\n",
      "MSZoning_encoded       -403.3116   1295.126     -0.311      0.756   -2943.937    2137.314\n",
      "Street_encoded        -3.165e+04   1.41e+04     -2.248      0.025   -5.93e+04   -4025.944\n",
      "Alley_encoded         -1182.6127   5776.599     -0.205      0.838   -1.25e+04    1.01e+04\n",
      "LotShape_encoded       1195.0564   1717.568      0.696      0.487   -2174.265    4564.378\n",
      "LandContour_encoded    2484.9992   1599.480      1.554      0.121    -652.672    5622.670\n",
      "Utilities_encoded     -5.066e+04   3.36e+04     -1.506      0.132   -1.17e+05    1.53e+04\n",
      "LotConfig_encoded      1334.2831    901.807      1.480      0.139    -434.775    3103.342\n",
      "LandSlope_encoded      6148.1118   4060.532      1.514      0.130   -1817.361    1.41e+04\n",
      "Neighborhood_encoded   -306.5983    165.782     -1.849      0.065    -631.809      18.613\n",
      "Condition1_encoded    -2631.6337    733.558     -3.587      0.000   -4070.641   -1192.626\n",
      "Condition2_encoded    -9709.3715   2458.946     -3.949      0.000   -1.45e+04   -4885.701\n",
      "BldgType_encoded      -2396.9759   1800.116     -1.332      0.183   -5928.231    1134.279\n",
      "HouseStyle_encoded     -182.0352    818.217     -0.222      0.824   -1787.117    1423.046\n",
      "RoofStyle_encoded      6748.2545   1737.484      3.884      0.000    3339.864    1.02e+04\n",
      "RoofMatl_encoded      -1.114e+04   2047.802     -5.441      0.000   -1.52e+04   -7125.305\n",
      "Exterior1st_encoded    -838.5040    545.579     -1.537      0.125   -1908.757     231.749\n",
      "Exterior2nd_encoded     960.9788    522.310      1.840      0.066     -63.628    1985.585\n",
      "MasVnrType_encoded     -846.9560   2721.741     -0.311      0.756   -6186.145    4492.233\n",
      "ExterQual_encoded      1974.3111   2040.046      0.968      0.333   -2027.611    5976.233\n",
      "ExterCond_encoded      1443.9979   2103.076      0.687      0.492   -2681.568    5569.564\n",
      "Foundation_encoded    -1744.6923   1519.911     -1.148      0.251   -4726.274    1236.890\n",
      "BsmtQual_encoded       8873.3745   1480.613      5.993      0.000    5968.882    1.18e+04\n",
      "BsmtCond_encoded      -3728.8547   2260.671     -1.649      0.099   -8163.573     705.864\n",
      "BsmtExposure_encoded   2373.6928    851.988      2.786      0.005     702.364    4045.022\n",
      "BsmtFinType1_encoded  -1586.0718    751.770     -2.110      0.035   -3060.806    -111.337\n",
      "BsmtFinType2_encoded  -1686.7366   1294.045     -1.303      0.193   -4225.241     851.767\n",
      "Heating_encoded         700.1833   3157.800      0.222      0.825   -5494.416    6894.782\n",
      "HeatingQC_encoded     -2561.9452   1185.033     -2.162      0.031   -4886.602    -237.288\n",
      "CentralAir_encoded     6016.1209   4525.818      1.329      0.184   -2862.095    1.49e+04\n",
      "Electrical_encoded     1766.6709   1822.129      0.970      0.332   -1807.767    5341.109\n",
      "KitchenQual_encoded    8754.6344   1538.914      5.689      0.000    5735.775    1.18e+04\n",
      "Functional_encoded    -4310.6079   1298.174     -3.321      0.001   -6857.213   -1764.003\n",
      "FireplaceQu_encoded     431.2187   1336.861      0.323      0.747   -2191.278    3053.716\n",
      "GarageType_encoded     -378.0639   1205.898     -0.314      0.754   -2743.651    1987.524\n",
      "GarageFinish_encoded   1637.6916   1258.231      1.302      0.193    -830.558    4105.941\n",
      "GarageQual_encoded     6157.2602   3292.900      1.870      0.062    -302.363    1.26e+04\n",
      "GarageCond_encoded    -3718.7991   3379.432     -1.100      0.271   -1.03e+04    2910.573\n",
      "PavedDrive_encoded     -988.3499   2648.423     -0.373      0.709   -6183.714    4207.014\n",
      "PoolQC_encoded         5.005e+04   1.67e+04      3.004      0.003    1.74e+04    8.27e+04\n",
      "Fence_encoded         -3318.5577   1783.239     -1.861      0.063   -6816.706     179.590\n",
      "MiscFeature_encoded   -1.174e+04   9570.579     -1.227      0.220   -3.05e+04    7031.086\n",
      "SaleType_encoded       2812.9143   1098.721      2.560      0.011     657.573    4968.256\n",
      "SaleCondition_encoded   940.5738   1049.740      0.896      0.370   -1118.682    2999.830\n",
      "==============================================================================\n",
      "Omnibus:                      581.373   Durbin-Watson:                   1.959\n",
      "Prob(Omnibus):                  0.000   Jarque-Bera (JB):            68175.736\n",
      "Skew:                          -0.831   Prob(JB):                         0.00\n",
      "Kurtosis:                      36.435   Cond. No.                     1.30e+16\n",
      "==============================================================================\n",
      "\n",
      "Notes:\n",
      "[1] Standard Errors assume that the covariance matrix of the errors is correctly specified.\n",
      "[2] The smallest eigenvalue is 1.92e-21. This might indicate that there are\n",
      "strong multicollinearity problems or that the design matrix is singular.\n"
     ]
    }
   ],
   "source": [
    "df = pandas.read_csv(\"revised_training_data.csv\")\n",
    "df2 = pandas.read_csv(\"revised_testing_data.csv\")\n",
    "X = df.drop('SalePrice',axis=1).drop('Id',axis=1)  # Features\n",
    "y = df['SalePrice']  # Output\n",
    "\n",
    "X2 = sm.add_constant(X)\n",
    "est = sm.OLS(y, X2)\n",
    "est2 = est.fit()\n",
    "print(est2.summary())\n",
    "\n",
    "# Standardize the data:\n",
    "# (x-avg(x))/std(x)"
   ]
  },
  {
   "cell_type": "code",
   "execution_count": 7,
   "id": "c0ac96f1-9cf0-47d4-8e85-cdb9804936eb",
   "metadata": {},
   "outputs": [],
   "source": [
    "def convert_to_log_train(variable):\n",
    "    variable = np.log(df[df[variable] > 0][variable])\n",
    "    #plt.hist(variable)"
   ]
  },
  {
   "cell_type": "code",
   "execution_count": 8,
   "id": "0693108a-dbe8-4492-841e-cce178005bf4",
   "metadata": {},
   "outputs": [],
   "source": [
    "convert_to_log_train(\"LotArea\")\n",
    "convert_to_log_train(\"TotalBsmtSF\")\n",
    "convert_to_log_train(\"MasVnrArea\")\n",
    "convert_to_log_train(\"1stFlrSF\")\n",
    "convert_to_log_train(\"2ndFlrSF\")\n",
    "convert_to_log_train(\"GrLivArea\")\n",
    "convert_to_log_train(\"TotRmsAbvGrd\")\n",
    "convert_to_log_train(\"WoodDeckSF\")\n",
    "convert_to_log_train(\"ScreenPorch\")"
   ]
  },
  {
   "cell_type": "code",
   "execution_count": 11,
   "id": "35bc65c4-360f-4315-950d-0e7e78b87a12",
   "metadata": {},
   "outputs": [],
   "source": [
    "def convert_to_log_test(variable):\n",
    "    variable = np.log(df2[df2[variable] > 0][variable])\n",
    "    #plt.hist(variable)"
   ]
  },
  {
   "cell_type": "code",
   "execution_count": 13,
   "id": "327631d9-7981-42fa-b8bd-c1215d029d82",
   "metadata": {},
   "outputs": [],
   "source": [
    "convert_to_log_test(\"LotArea\")\n",
    "convert_to_log_test(\"TotalBsmtSF\")\n",
    "convert_to_log_test(\"MasVnrArea\")\n",
    "convert_to_log_test(\"1stFlrSF\")\n",
    "convert_to_log_test(\"2ndFlrSF\")\n",
    "convert_to_log_test(\"GrLivArea\")\n",
    "convert_to_log_test(\"TotRmsAbvGrd\")\n",
    "convert_to_log_test(\"WoodDeckSF\")\n",
    "convert_to_log_test(\"ScreenPorch\")"
   ]
  },
  {
   "cell_type": "code",
   "execution_count": 15,
   "id": "e5f4ab55-938c-4959-98a4-ab4bdbef0f21",
   "metadata": {},
   "outputs": [
    {
     "name": "stdout",
     "output_type": "stream",
     "text": [
      "Residual Sum of Squares (RSS): 1417232174089.1006\n"
     ]
    }
   ],
   "source": [
    "model = sm.OLS(y, X).fit()\n",
    "\n",
    "predicted_values = model.predict()\n",
    "\n",
    "residuals = y - predicted_values\n",
    "\n",
    "RSS = np.sum(residuals**2)\n",
    "\n",
    "print(\"Residual Sum of Squares (RSS):\", RSS)"
   ]
  },
  {
   "cell_type": "code",
   "execution_count": 17,
   "id": "4209356b-2751-4c24-9618-af550b8f5e2c",
   "metadata": {},
   "outputs": [
    {
     "name": "stdout",
     "output_type": "stream",
     "text": [
      "Root Mean Squared Error (RMSE): 31156.170633667072\n"
     ]
    }
   ],
   "source": [
    "RMSE = np.sqrt(mean_squared_error(y, predicted_values))\n",
    "print(\"Root Mean Squared Error (RMSE):\", RMSE)"
   ]
  },
  {
   "cell_type": "code",
   "execution_count": 19,
   "id": "73dabcdd-27ad-4f77-b889-0f1d830c244f",
   "metadata": {},
   "outputs": [
    {
     "name": "stdout",
     "output_type": "stream",
     "text": [
      "Remaining columns in X:\n",
      "Index(['MSSubClass', 'LotFrontage', 'LotArea', 'OverallQual', 'OverallCond',\n",
      "       'YearBuilt', 'YearRemodAdd', 'MasVnrArea', 'BsmtFinSF1', 'BsmtFinSF2',\n",
      "       'BsmtUnfSF', 'TotalBsmtSF', '1stFlrSF', '2ndFlrSF', 'GrLivArea',\n",
      "       'BsmtFullBath', 'FullBath', 'BedroomAbvGr', 'KitchenAbvGr',\n",
      "       'TotRmsAbvGrd', 'Fireplaces', 'GarageYrBlt', 'GarageCars', 'GarageArea',\n",
      "       'WoodDeckSF', 'OpenPorchSF', 'EnclosedPorch', 'ScreenPorch',\n",
      "       'Street_encoded', 'LotShape_encoded', 'LandContour_encoded',\n",
      "       'Utilities_encoded', 'LotConfig_encoded', 'LandSlope_encoded',\n",
      "       'Neighborhood_encoded', 'Condition1_encoded', 'Condition2_encoded',\n",
      "       'BldgType_encoded', 'RoofStyle_encoded', 'RoofMatl_encoded',\n",
      "       'Exterior1st_encoded', 'Exterior2nd_encoded', 'MasVnrType_encoded',\n",
      "       'ExterQual_encoded', 'ExterCond_encoded', 'Foundation_encoded',\n",
      "       'BsmtQual_encoded', 'BsmtCond_encoded', 'BsmtExposure_encoded',\n",
      "       'BsmtFinType1_encoded', 'BsmtFinType2_encoded', 'HeatingQC_encoded',\n",
      "       'CentralAir_encoded', 'Electrical_encoded', 'KitchenQual_encoded',\n",
      "       'Functional_encoded', 'GarageFinish_encoded', 'GarageQual_encoded',\n",
      "       'GarageCond_encoded', 'PoolQC_encoded', 'Fence_encoded',\n",
      "       'MiscFeature_encoded', 'SaleType_encoded', 'SaleCondition_encoded'],\n",
      "      dtype='object')\n"
     ]
    }
   ],
   "source": [
    "X = df.drop(['SalePrice', 'Id', 'LowQualFinSF', 'BsmtHalfBath', 'HalfBath', 'MoSold', 'YrSold',\n",
    "             'MSZoning_encoded', 'Alley_encoded', 'HouseStyle_encoded',\n",
    "             'Heating_encoded', 'FireplaceQu_encoded', 'GarageType_encoded',\n",
    "             'PavedDrive_encoded', 'PoolArea', '3SsnPorch', 'MiscVal'], axis=1)\n",
    "\n",
    "print(\"Remaining columns in X:\")\n",
    "print(X.columns)"
   ]
  },
  {
   "cell_type": "code",
   "execution_count": 21,
   "id": "85a638b1-528a-4f62-aae1-978ba26eda4a",
   "metadata": {},
   "outputs": [
    {
     "name": "stdout",
     "output_type": "stream",
     "text": [
      "Remaining columns in X_2:\n",
      "Index(['MSSubClass', 'LotFrontage', 'LotArea', 'OverallQual', 'OverallCond',\n",
      "       'YearBuilt', 'YearRemodAdd', 'MasVnrArea', 'BsmtFinSF1', 'BsmtFinSF2',\n",
      "       'BsmtUnfSF', 'TotalBsmtSF', '1stFlrSF', '2ndFlrSF', 'GrLivArea',\n",
      "       'BsmtFullBath', 'FullBath', 'BedroomAbvGr', 'KitchenAbvGr',\n",
      "       'TotRmsAbvGrd', 'Fireplaces', 'GarageYrBlt', 'GarageCars', 'GarageArea',\n",
      "       'WoodDeckSF', 'OpenPorchSF', 'EnclosedPorch', 'ScreenPorch',\n",
      "       'Street_encoded', 'LotShape_encoded', 'LandContour_encoded',\n",
      "       'Utilities_encoded', 'LotConfig_encoded', 'LandSlope_encoded',\n",
      "       'Neighborhood_encoded', 'Condition1_encoded', 'Condition2_encoded',\n",
      "       'BldgType_encoded', 'RoofStyle_encoded', 'RoofMatl_encoded',\n",
      "       'Exterior1st_encoded', 'Exterior2nd_encoded', 'MasVnrType_encoded',\n",
      "       'ExterQual_encoded', 'ExterCond_encoded', 'Foundation_encoded',\n",
      "       'BsmtQual_encoded', 'BsmtCond_encoded', 'BsmtExposure_encoded',\n",
      "       'BsmtFinType1_encoded', 'BsmtFinType2_encoded', 'HeatingQC_encoded',\n",
      "       'CentralAir_encoded', 'Electrical_encoded', 'KitchenQual_encoded',\n",
      "       'Functional_encoded', 'GarageFinish_encoded', 'GarageQual_encoded',\n",
      "       'GarageCond_encoded', 'PoolQC_encoded', 'Fence_encoded',\n",
      "       'MiscFeature_encoded', 'SaleType_encoded', 'SaleCondition_encoded'],\n",
      "      dtype='object')\n"
     ]
    }
   ],
   "source": [
    "X_2 = df2.drop(['Id', 'LowQualFinSF', 'BsmtHalfBath', 'HalfBath', 'MoSold', 'YrSold',\n",
    "             'MSZoning_encoded', 'Alley_encoded', 'HouseStyle_encoded',\n",
    "             'Heating_encoded', 'FireplaceQu_encoded', 'GarageType_encoded',\n",
    "             'PavedDrive_encoded', 'PoolArea', '3SsnPorch', 'MiscVal'], axis=1)\n",
    "\n",
    "print(\"Remaining columns in X_2:\")\n",
    "print(X_2.columns)"
   ]
  },
  {
   "cell_type": "code",
   "execution_count": 23,
   "id": "f9de84d5-5410-4d35-823d-865bbf91ed47",
   "metadata": {},
   "outputs": [
    {
     "name": "stdout",
     "output_type": "stream",
     "text": [
      "# of predictors: 64\n"
     ]
    }
   ],
   "source": [
    "columns = X.columns\n",
    "count = 0\n",
    "\n",
    "for i in columns:\n",
    "    count += 1\n",
    "\n",
    "print(\"# of predictors:\", count)"
   ]
  },
  {
   "cell_type": "code",
   "execution_count": 25,
   "id": "29fec370-a62e-493d-8e3d-3ee78f8c63ad",
   "metadata": {},
   "outputs": [
    {
     "name": "stdout",
     "output_type": "stream",
     "text": [
      "# of predictors: 64\n"
     ]
    }
   ],
   "source": [
    "columns = X_2.columns\n",
    "count = 0\n",
    "\n",
    "for i in columns:\n",
    "    count += 1\n",
    "\n",
    "print(\"# of predictors:\", count)"
   ]
  },
  {
   "cell_type": "code",
   "execution_count": 27,
   "id": "e89defe7-64e0-486e-8760-ca63c1a57cb3",
   "metadata": {},
   "outputs": [
    {
     "name": "stdout",
     "output_type": "stream",
     "text": [
      "MSE on testing data when both testing and training data are combined: 974547908.7344137\n"
     ]
    }
   ],
   "source": [
    "#(X_train, X_test, y_train, y_test) = train_test_split(X, y, test_size=400, random_state=0)\n",
    "\n",
    "model_combined = LinearRegression()\n",
    "model_combined.fit(X, y)\n",
    "\n",
    "y_pred_combined = model_combined.predict(X)\n",
    "\n",
    "mse_combined = mean_squared_error(y, y_pred_combined)\n",
    "\n",
    "print(f\"MSE on testing data when both testing and training data are combined: {mse_combined}\")"
   ]
  },
  {
   "cell_type": "code",
   "execution_count": 29,
   "id": "2f87f99a-8c0d-4735-9033-89f20b369367",
   "metadata": {},
   "outputs": [
    {
     "name": "stdout",
     "output_type": "stream",
     "text": [
      "MSE on testing data when only training data is used: 2166636080.076792\n"
     ]
    }
   ],
   "source": [
    "(X_train, X_test, y_train, y_test) = train_test_split(X, y, test_size=400, random_state=0)\n",
    "\n",
    "model_train_only = LinearRegression()\n",
    "model_train_only.fit(X_train, y_train)\n",
    "\n",
    "y_pred_test_only = model_train_only.predict(X_test)\n",
    "\n",
    "mse_test_train = mean_squared_error(y_test, y_pred_test_only)\n",
    "\n",
    "print(f\"MSE on testing data when only training data is used: {mse_test_train}\")"
   ]
  },
  {
   "cell_type": "code",
   "execution_count": 31,
   "id": "e83ee5fc-fdac-42c2-b0fe-125dd1ef6b32",
   "metadata": {},
   "outputs": [
    {
     "name": "stdout",
     "output_type": "stream",
     "text": [
      "The difference between the mean square errors is 1192088171.3423781\n"
     ]
    }
   ],
   "source": [
    "# The MSE on the testing data from simple validation is much greater in mse_test_train than mse_combined.\n",
    "difference_between_mse = mse_test_train-mse_combined\n",
    "print(f\"The difference between the mean square errors is {difference_between_mse}\")"
   ]
  },
  {
   "cell_type": "code",
   "execution_count": 33,
   "id": "a9d5b2bb-2cc9-4a1b-8ad6-a8bc03bf4b2a",
   "metadata": {},
   "outputs": [
    {
     "name": "stdout",
     "output_type": "stream",
     "text": [
      "<class 'numpy.ndarray'>\n"
     ]
    }
   ],
   "source": [
    "model_train = LinearRegression()\n",
    "model_train.fit(X, y)\n",
    "\n",
    "y_testing = model_train_only.predict(X_2)\n",
    "\n",
    "print(type(y_testing))"
   ]
  },
  {
   "cell_type": "markdown",
   "id": "e2116690-c2e9-4bd5-a7fd-d280cf389498",
   "metadata": {
    "jp-MarkdownHeadingCollapsed": true
   },
   "source": [
    "## Regularization"
   ]
  },
  {
   "cell_type": "code",
   "execution_count": 36,
   "id": "f7752664-6e2d-4e7e-ab3e-658a0618422f",
   "metadata": {},
   "outputs": [],
   "source": [
    "def evaluate_l1_ratio(X_train, y_train, X_test, y_test, l1_ratio):\n",
    "    model = ElasticNet(alpha=0.1, l1_ratio = l1_ratio)\n",
    "    model.fit(X_train, y_train)\n",
    "\n",
    "    y_pred_train = model.predict(X_train)\n",
    "    y_pred_test = model.predict(X_test)\n",
    "\n",
    "    mse_train = mean_squared_error(y_train, y_pred_train)  # Calculate MSE for training data\n",
    "    mse_test = mean_squared_error(y_test, y_pred_test)  # Calculate MSE for test data\n",
    "    r2_train = r2_score(y_train, y_pred_train)  # Calculate R2 score for training data\n",
    "    r2_test = r2_score(y_test, y_pred_test)  # Calculate R2 score for test data\n",
    "    \n",
    "    return mse_train, mse_test, r2_train, r2_test"
   ]
  },
  {
   "cell_type": "code",
   "execution_count": 38,
   "id": "c351b97d-242e-4cf5-9986-68f5ae2b8a81",
   "metadata": {},
   "outputs": [],
   "source": [
    "(X_train, X_test, y_train, y_test) = train_test_split(X, y, test_size=400, random_state=0)\n",
    "warnings.filterwarnings('ignore')\n",
    "\n",
    "train_mse = []\n",
    "test_mse = []\n",
    "train_r2 = []\n",
    "test_r2 = []\n",
    "l1_ratios = []\n",
    "\n",
    "l1_ratio = 0.0\n",
    "while l1_ratio <= 1.0:\n",
    "    mse_train, mse_test, r2_train, r2_test = evaluate_l1_ratio(X_train, y_train, X_test, y_test, l1_ratio)\n",
    "    train_mse.append(mse_train)\n",
    "    test_mse.append(mse_test)\n",
    "    train_r2.append(r2_train)\n",
    "    test_r2.append(r2_test)\n",
    "    l1_ratios.append(l1_ratio)\n",
    "    l1_ratio += 0.1"
   ]
  },
  {
   "cell_type": "code",
   "execution_count": 39,
   "id": "c94557c7-c676-4ef2-a2e1-2367e348b2d6",
   "metadata": {},
   "outputs": [
    {
     "data": {
      "image/png": "[encoded data removed]",
      "text/plain": [
       "<Figure size 640x480 with 1 Axes>"
      ]
     },
     "metadata": {},
     "output_type": "display_data"
    }
   ],
   "source": [
    "plt.plot(l1_ratios, train_mse, label='Train MSE', marker='o')\n",
    "plt.plot(l1_ratios, test_mse, label='Test MSE', marker='o')\n",
    "plt.xlabel('L1 Ratio')\n",
    "plt.ylabel('Mean Squared Error')\n",
    "plt.title('MSE vs L1 Ratio')\n",
    "plt.legend()\n",
    "plt.grid(True)\n",
    "plt.show()"
   ]
  },
  {
   "cell_type": "code",
   "execution_count": 42,
   "id": "0c0ae635-efeb-4285-91d1-555faa95a789",
   "metadata": {},
   "outputs": [
    {
     "data": {
      "text/html": [
       "<style>#sk-container-id-1 {\n",
       "  /* Definition of color scheme common for light and dark mode */\n",
       "  --sklearn-color-text: black;\n",
       "  --sklearn-color-line: gray;\n",
       "  /* Definition of color scheme for unfitted estimators */\n",
       "  --sklearn-color-unfitted-level-0: #fff5e6;\n",
       "  --sklearn-color-unfitted-level-1: #f6e4d2;\n",
       "  --sklearn-color-unfitted-level-2: #ffe0b3;\n",
       "  --sklearn-color-unfitted-level-3: chocolate;\n",
       "  /* Definition of color scheme for fitted estimators */\n",
       "  --sklearn-color-fitted-level-0: #f0f8ff;\n",
       "  --sklearn-color-fitted-level-1: #d4ebff;\n",
       "  --sklearn-color-fitted-level-2: #b3dbfd;\n",
       "  --sklearn-color-fitted-level-3: cornflowerblue;\n",
       "\n",
       "  /* Specific color for light theme */\n",
       "  --sklearn-color-text-on-default-background: var(--sg-text-color, var(--theme-code-foreground, var(--jp-content-font-color1, black)));\n",
       "  --sklearn-color-background: var(--sg-background-color, var(--theme-background, var(--jp-layout-color0, white)));\n",
       "  --sklearn-color-border-box: var(--sg-text-color, var(--theme-code-foreground, var(--jp-content-font-color1, black)));\n",
       "  --sklearn-color-icon: #696969;\n",
       "\n",
       "  @media (prefers-color-scheme: dark) {\n",
       "    /* Redefinition of color scheme for dark theme */\n",
       "    --sklearn-color-text-on-default-background: var(--sg-text-color, var(--theme-code-foreground, var(--jp-content-font-color1, white)));\n",
       "    --sklearn-color-background: var(--sg-background-color, var(--theme-background, var(--jp-layout-color0, #111)));\n",
       "    --sklearn-color-border-box: var(--sg-text-color, var(--theme-code-foreground, var(--jp-content-font-color1, white)));\n",
       "    --sklearn-color-icon: #878787;\n",
       "  }\n",
       "}\n",
       "\n",
       "#sk-container-id-1 {\n",
       "  color: var(--sklearn-color-text);\n",
       "}\n",
       "\n",
       "#sk-container-id-1 pre {\n",
       "  padding: 0;\n",
       "}\n",
       "\n",
       "#sk-container-id-1 input.sk-hidden--visually {\n",
       "  border: 0;\n",
       "  clip: rect(1px 1px 1px 1px);\n",
       "  clip: rect(1px, 1px, 1px, 1px);\n",
       "  height: 1px;\n",
       "  margin: -1px;\n",
       "  overflow: hidden;\n",
       "  padding: 0;\n",
       "  position: absolute;\n",
       "  width: 1px;\n",
       "}\n",
       "\n",
       "#sk-container-id-1 div.sk-dashed-wrapped {\n",
       "  border: 1px dashed var(--sklearn-color-line);\n",
       "  margin: 0 0.4em 0.5em 0.4em;\n",
       "  box-sizing: border-box;\n",
       "  padding-bottom: 0.4em;\n",
       "  background-color: var(--sklearn-color-background);\n",
       "}\n",
       "\n",
       "#sk-container-id-1 div.sk-container {\n",
       "  /* jupyter's `normalize.less` sets `[hidden] { display: none; }`\n",
       "     but bootstrap.min.css set `[hidden] { display: none !important; }`\n",
       "     so we also need the `!important` here to be able to override the\n",
       "     default hidden behavior on the sphinx rendered scikit-learn.org.\n",
       "     See: https://github.com/scikit-learn/scikit-learn/issues/21755 */\n",
       "  display: inline-block !important;\n",
       "  position: relative;\n",
       "}\n",
       "\n",
       "#sk-container-id-1 div.sk-text-repr-fallback {\n",
       "  display: none;\n",
       "}\n",
       "\n",
       "div.sk-parallel-item,\n",
       "div.sk-serial,\n",
       "div.sk-item {\n",
       "  /* draw centered vertical line to link estimators */\n",
       "  background-image: linear-gradient(var(--sklearn-color-text-on-default-background), var(--sklearn-color-text-on-default-background));\n",
       "  background-size: 2px 100%;\n",
       "  background-repeat: no-repeat;\n",
       "  background-position: center center;\n",
       "}\n",
       "\n",
       "/* Parallel-specific style estimator block */\n",
       "\n",
       "#sk-container-id-1 div.sk-parallel-item::after {\n",
       "  content: \"\";\n",
       "  width: 100%;\n",
       "  border-bottom: 2px solid var(--sklearn-color-text-on-default-background);\n",
       "  flex-grow: 1;\n",
       "}\n",
       "\n",
       "#sk-container-id-1 div.sk-parallel {\n",
       "  display: flex;\n",
       "  align-items: stretch;\n",
       "  justify-content: center;\n",
       "  background-color: var(--sklearn-color-background);\n",
       "  position: relative;\n",
       "}\n",
       "\n",
       "#sk-container-id-1 div.sk-parallel-item {\n",
       "  display: flex;\n",
       "  flex-direction: column;\n",
       "}\n",
       "\n",
       "#sk-container-id-1 div.sk-parallel-item:first-child::after {\n",
       "  align-self: flex-end;\n",
       "  width: 50%;\n",
       "}\n",
       "\n",
       "#sk-container-id-1 div.sk-parallel-item:last-child::after {\n",
       "  align-self: flex-start;\n",
       "  width: 50%;\n",
       "}\n",
       "\n",
       "#sk-container-id-1 div.sk-parallel-item:only-child::after {\n",
       "  width: 0;\n",
       "}\n",
       "\n",
       "/* Serial-specific style estimator block */\n",
       "\n",
       "#sk-container-id-1 div.sk-serial {\n",
       "  display: flex;\n",
       "  flex-direction: column;\n",
       "  align-items: center;\n",
       "  background-color: var(--sklearn-color-background);\n",
       "  padding-right: 1em;\n",
       "  padding-left: 1em;\n",
       "}\n",
       "\n",
       "\n",
       "/* Toggleable style: style used for estimator/Pipeline/ColumnTransformer box that is\n",
       "clickable and can be expanded/collapsed.\n",
       "- Pipeline and ColumnTransformer use this feature and define the default style\n",
       "- Estimators will overwrite some part of the style using the `sk-estimator` class\n",
       "*/\n",
       "\n",
       "/* Pipeline and ColumnTransformer style (default) */\n",
       "\n",
       "#sk-container-id-1 div.sk-toggleable {\n",
       "  /* Default theme specific background. It is overwritten whether we have a\n",
       "  specific estimator or a Pipeline/ColumnTransformer */\n",
       "  background-color: var(--sklearn-color-background);\n",
       "}\n",
       "\n",
       "/* Toggleable label */\n",
       "#sk-container-id-1 label.sk-toggleable__label {\n",
       "  cursor: pointer;\n",
       "  display: block;\n",
       "  width: 100%;\n",
       "  margin-bottom: 0;\n",
       "  padding: 0.5em;\n",
       "  box-sizing: border-box;\n",
       "  text-align: center;\n",
       "}\n",
       "\n",
       "#sk-container-id-1 label.sk-toggleable__label-arrow:before {\n",
       "  /* Arrow on the left of the label */\n",
       "  content: \"▸\";\n",
       "  float: left;\n",
       "  margin-right: 0.25em;\n",
       "  color: var(--sklearn-color-icon);\n",
       "}\n",
       "\n",
       "#sk-container-id-1 label.sk-toggleable__label-arrow:hover:before {\n",
       "  color: var(--sklearn-color-text);\n",
       "}\n",
       "\n",
       "/* Toggleable content - dropdown */\n",
       "\n",
       "#sk-container-id-1 div.sk-toggleable__content {\n",
       "  max-height: 0;\n",
       "  max-width: 0;\n",
       "  overflow: hidden;\n",
       "  text-align: left;\n",
       "  /* unfitted */\n",
       "  background-color: var(--sklearn-color-unfitted-level-0);\n",
       "}\n",
       "\n",
       "#sk-container-id-1 div.sk-toggleable__content.fitted {\n",
       "  /* fitted */\n",
       "  background-color: var(--sklearn-color-fitted-level-0);\n",
       "}\n",
       "\n",
       "#sk-container-id-1 div.sk-toggleable__content pre {\n",
       "  margin: 0.2em;\n",
       "  border-radius: 0.25em;\n",
       "  color: var(--sklearn-color-text);\n",
       "  /* unfitted */\n",
       "  background-color: var(--sklearn-color-unfitted-level-0);\n",
       "}\n",
       "\n",
       "#sk-container-id-1 div.sk-toggleable__content.fitted pre {\n",
       "  /* unfitted */\n",
       "  background-color: var(--sklearn-color-fitted-level-0);\n",
       "}\n",
       "\n",
       "#sk-container-id-1 input.sk-toggleable__control:checked~div.sk-toggleable__content {\n",
       "  /* Expand drop-down */\n",
       "  max-height: 200px;\n",
       "  max-width: 100%;\n",
       "  overflow: auto;\n",
       "}\n",
       "\n",
       "#sk-container-id-1 input.sk-toggleable__control:checked~label.sk-toggleable__label-arrow:before {\n",
       "  content: \"▾\";\n",
       "}\n",
       "\n",
       "/* Pipeline/ColumnTransformer-specific style */\n",
       "\n",
       "#sk-container-id-1 div.sk-label input.sk-toggleable__control:checked~label.sk-toggleable__label {\n",
       "  color: var(--sklearn-color-text);\n",
       "  background-color: var(--sklearn-color-unfitted-level-2);\n",
       "}\n",
       "\n",
       "#sk-container-id-1 div.sk-label.fitted input.sk-toggleable__control:checked~label.sk-toggleable__label {\n",
       "  background-color: var(--sklearn-color-fitted-level-2);\n",
       "}\n",
       "\n",
       "/* Estimator-specific style */\n",
       "\n",
       "/* Colorize estimator box */\n",
       "#sk-container-id-1 div.sk-estimator input.sk-toggleable__control:checked~label.sk-toggleable__label {\n",
       "  /* unfitted */\n",
       "  background-color: var(--sklearn-color-unfitted-level-2);\n",
       "}\n",
       "\n",
       "#sk-container-id-1 div.sk-estimator.fitted input.sk-toggleable__control:checked~label.sk-toggleable__label {\n",
       "  /* fitted */\n",
       "  background-color: var(--sklearn-color-fitted-level-2);\n",
       "}\n",
       "\n",
       "#sk-container-id-1 div.sk-label label.sk-toggleable__label,\n",
       "#sk-container-id-1 div.sk-label label {\n",
       "  /* The background is the default theme color */\n",
       "  color: var(--sklearn-color-text-on-default-background);\n",
       "}\n",
       "\n",
       "/* On hover, darken the color of the background */\n",
       "#sk-container-id-1 div.sk-label:hover label.sk-toggleable__label {\n",
       "  color: var(--sklearn-color-text);\n",
       "  background-color: var(--sklearn-color-unfitted-level-2);\n",
       "}\n",
       "\n",
       "/* Label box, darken color on hover, fitted */\n",
       "#sk-container-id-1 div.sk-label.fitted:hover label.sk-toggleable__label.fitted {\n",
       "  color: var(--sklearn-color-text);\n",
       "  background-color: var(--sklearn-color-fitted-level-2);\n",
       "}\n",
       "\n",
       "/* Estimator label */\n",
       "\n",
       "#sk-container-id-1 div.sk-label label {\n",
       "  font-family: monospace;\n",
       "  font-weight: bold;\n",
       "  display: inline-block;\n",
       "  line-height: 1.2em;\n",
       "}\n",
       "\n",
       "#sk-container-id-1 div.sk-label-container {\n",
       "  text-align: center;\n",
       "}\n",
       "\n",
       "/* Estimator-specific */\n",
       "#sk-container-id-1 div.sk-estimator {\n",
       "  font-family: monospace;\n",
       "  border: 1px dotted var(--sklearn-color-border-box);\n",
       "  border-radius: 0.25em;\n",
       "  box-sizing: border-box;\n",
       "  margin-bottom: 0.5em;\n",
       "  /* unfitted */\n",
       "  background-color: var(--sklearn-color-unfitted-level-0);\n",
       "}\n",
       "\n",
       "#sk-container-id-1 div.sk-estimator.fitted {\n",
       "  /* fitted */\n",
       "  background-color: var(--sklearn-color-fitted-level-0);\n",
       "}\n",
       "\n",
       "/* on hover */\n",
       "#sk-container-id-1 div.sk-estimator:hover {\n",
       "  /* unfitted */\n",
       "  background-color: var(--sklearn-color-unfitted-level-2);\n",
       "}\n",
       "\n",
       "#sk-container-id-1 div.sk-estimator.fitted:hover {\n",
       "  /* fitted */\n",
       "  background-color: var(--sklearn-color-fitted-level-2);\n",
       "}\n",
       "\n",
       "/* Specification for estimator info (e.g. \"i\" and \"?\") */\n",
       "\n",
       "/* Common style for \"i\" and \"?\" */\n",
       "\n",
       ".sk-estimator-doc-link,\n",
       "a:link.sk-estimator-doc-link,\n",
       "a:visited.sk-estimator-doc-link {\n",
       "  float: right;\n",
       "  font-size: smaller;\n",
       "  line-height: 1em;\n",
       "  font-family: monospace;\n",
       "  background-color: var(--sklearn-color-background);\n",
       "  border-radius: 1em;\n",
       "  height: 1em;\n",
       "  width: 1em;\n",
       "  text-decoration: none !important;\n",
       "  margin-left: 1ex;\n",
       "  /* unfitted */\n",
       "  border: var(--sklearn-color-unfitted-level-1) 1pt solid;\n",
       "  color: var(--sklearn-color-unfitted-level-1);\n",
       "}\n",
       "\n",
       ".sk-estimator-doc-link.fitted,\n",
       "a:link.sk-estimator-doc-link.fitted,\n",
       "a:visited.sk-estimator-doc-link.fitted {\n",
       "  /* fitted */\n",
       "  border: var(--sklearn-color-fitted-level-1) 1pt solid;\n",
       "  color: var(--sklearn-color-fitted-level-1);\n",
       "}\n",
       "\n",
       "/* On hover */\n",
       "div.sk-estimator:hover .sk-estimator-doc-link:hover,\n",
       ".sk-estimator-doc-link:hover,\n",
       "div.sk-label-container:hover .sk-estimator-doc-link:hover,\n",
       ".sk-estimator-doc-link:hover {\n",
       "  /* unfitted */\n",
       "  background-color: var(--sklearn-color-unfitted-level-3);\n",
       "  color: var(--sklearn-color-background);\n",
       "  text-decoration: none;\n",
       "}\n",
       "\n",
       "div.sk-estimator.fitted:hover .sk-estimator-doc-link.fitted:hover,\n",
       ".sk-estimator-doc-link.fitted:hover,\n",
       "div.sk-label-container:hover .sk-estimator-doc-link.fitted:hover,\n",
       ".sk-estimator-doc-link.fitted:hover {\n",
       "  /* fitted */\n",
       "  background-color: var(--sklearn-color-fitted-level-3);\n",
       "  color: var(--sklearn-color-background);\n",
       "  text-decoration: none;\n",
       "}\n",
       "\n",
       "/* Span, style for the box shown on hovering the info icon */\n",
       ".sk-estimator-doc-link span {\n",
       "  display: none;\n",
       "  z-index: 9999;\n",
       "  position: relative;\n",
       "  font-weight: normal;\n",
       "  right: .2ex;\n",
       "  padding: .5ex;\n",
       "  margin: .5ex;\n",
       "  width: min-content;\n",
       "  min-width: 20ex;\n",
       "  max-width: 50ex;\n",
       "  color: var(--sklearn-color-text);\n",
       "  box-shadow: 2pt 2pt 4pt #999;\n",
       "  /* unfitted */\n",
       "  background: var(--sklearn-color-unfitted-level-0);\n",
       "  border: .5pt solid var(--sklearn-color-unfitted-level-3);\n",
       "}\n",
       "\n",
       ".sk-estimator-doc-link.fitted span {\n",
       "  /* fitted */\n",
       "  background: var(--sklearn-color-fitted-level-0);\n",
       "  border: var(--sklearn-color-fitted-level-3);\n",
       "}\n",
       "\n",
       ".sk-estimator-doc-link:hover span {\n",
       "  display: block;\n",
       "}\n",
       "\n",
       "/* \"?\"-specific style due to the `<a>` HTML tag */\n",
       "\n",
       "#sk-container-id-1 a.estimator_doc_link {\n",
       "  float: right;\n",
       "  font-size: 1rem;\n",
       "  line-height: 1em;\n",
       "  font-family: monospace;\n",
       "  background-color: var(--sklearn-color-background);\n",
       "  border-radius: 1rem;\n",
       "  height: 1rem;\n",
       "  width: 1rem;\n",
       "  text-decoration: none;\n",
       "  /* unfitted */\n",
       "  color: var(--sklearn-color-unfitted-level-1);\n",
       "  border: var(--sklearn-color-unfitted-level-1) 1pt solid;\n",
       "}\n",
       "\n",
       "#sk-container-id-1 a.estimator_doc_link.fitted {\n",
       "  /* fitted */\n",
       "  border: var(--sklearn-color-fitted-level-1) 1pt solid;\n",
       "  color: var(--sklearn-color-fitted-level-1);\n",
       "}\n",
       "\n",
       "/* On hover */\n",
       "#sk-container-id-1 a.estimator_doc_link:hover {\n",
       "  /* unfitted */\n",
       "  background-color: var(--sklearn-color-unfitted-level-3);\n",
       "  color: var(--sklearn-color-background);\n",
       "  text-decoration: none;\n",
       "}\n",
       "\n",
       "#sk-container-id-1 a.estimator_doc_link.fitted:hover {\n",
       "  /* fitted */\n",
       "  background-color: var(--sklearn-color-fitted-level-3);\n",
       "}\n",
       "</style><div id=\"sk-container-id-1\" class=\"sk-top-container\"><div class=\"sk-text-repr-fallback\"><pre>ElasticNet(alpha=0.1)</pre><b>In a Jupyter environment, please rerun this cell to show the HTML representation or trust the notebook. <br />On GitHub, the HTML representation is unable to render, please try loading this page with nbviewer.org.</b></div><div class=\"sk-container\" hidden><div class=\"sk-item\"><div class=\"sk-estimator fitted sk-toggleable\"><input class=\"sk-toggleable__control sk-hidden--visually\" id=\"sk-estimator-id-1\" type=\"checkbox\" checked><label for=\"sk-estimator-id-1\" class=\"sk-toggleable__label fitted sk-toggleable__label-arrow fitted\">&nbsp;&nbsp;ElasticNet<a class=\"sk-estimator-doc-link fitted\" rel=\"noreferrer\" target=\"_blank\" href=\"https://scikit-learn.org/1.5/modules/generated/sklearn.linear_model.ElasticNet.html\">?<span>Documentation for ElasticNet</span></a><span class=\"sk-estimator-doc-link fitted\">i<span>Fitted</span></span></label><div class=\"sk-toggleable__content fitted\"><pre>ElasticNet(alpha=0.1)</pre></div> </div></div></div></div>"
      ],
      "text/plain": [
       "ElasticNet(alpha=0.1)"
      ]
     },
     "execution_count": 42,
     "metadata": {},
     "output_type": "execute_result"
    }
   ],
   "source": [
    "model = ElasticNet(alpha=0.1, l1_ratio=0.5)\n",
    "model.fit(X_train, y_train)"
   ]
  },
  {
   "cell_type": "code",
   "execution_count": 44,
   "id": "dc201ee8-b0ea-419d-aaee-823c1a4a194f",
   "metadata": {},
   "outputs": [
    {
     "name": "stdout",
     "output_type": "stream",
     "text": [
      "1918685086.754377\n"
     ]
    }
   ],
   "source": [
    "y_pred = model.predict(X_test)\n",
    "\n",
    "mse_test_train = mean_squared_error(y_test, y_pred)\n",
    "\n",
    "print(f\"{mse_test_train}\")\n",
    "# Mean for X_test and y_test"
   ]
  },
  {
   "cell_type": "code",
   "execution_count": 46,
   "id": "3ae8ce4f-7430-47e4-90ac-a0f1dbd11b59",
   "metadata": {},
   "outputs": [],
   "source": [
    "def evaluate_alpha(X_train, y_train, X_test, y_test, alpha):\n",
    "    elastic_net = ElasticNet(alpha = alpha, l1_ratio=0.5, random_state=0)\n",
    "    elastic_net.fit(X_train, y_train)\n",
    "\n",
    "    y_pred_train = elastic_net.predict(X_train)\n",
    "    y_pred_test = elastic_net.predict(X_test)\n",
    "\n",
    "    mse_train = mean_squared_error(y_train, y_pred_train)  # Calculate MSE for training data\n",
    "    mse_test = mean_squared_error(y_test, y_pred_test)  # Calculate MSE for test data\n",
    "    r2_train = r2_score(y_train, y_pred_train)  # Calculate R2 score for training data\n",
    "    r2_test = r2_score(y_test, y_pred_test)  # Calculate R2 score for test data\n",
    "    \n",
    "    return mse_train, mse_test, r2_train, r2_test"
   ]
  },
  {
   "cell_type": "code",
   "execution_count": 48,
   "id": "482e4334-b8c7-45b1-8121-eff2d7e93714",
   "metadata": {},
   "outputs": [],
   "source": [
    "X_train, X_test, y_train, y_test = train_test_split(X, y, test_size=400, random_state=0)\n",
    "warnings.filterwarnings('ignore')\n",
    "\n",
    "train_mse = []\n",
    "test_mse = []\n",
    "train_r2 = []\n",
    "test_r2 = []\n",
    "alphas = []\n",
    "\n",
    "alpha = 0.0\n",
    "while alpha <= 1.0:\n",
    "    mse_train, mse_test, r2_train, r2_test = evaluate_alpha(X_train, y_train, X_test, y_test, alpha)\n",
    "    train_mse.append(mse_train)\n",
    "    test_mse.append(mse_test)\n",
    "    train_r2.append(r2_train)\n",
    "    test_r2.append(r2_test)\n",
    "    alphas.append(alpha)\n",
    "    alpha += 0.1"
   ]
  },
  {
   "cell_type": "code",
   "execution_count": 49,
   "id": "571a3509-4468-4b05-8aaf-4b2122a48c6e",
   "metadata": {},
   "outputs": [
    {
     "data": {
      "image/png": "[encoded data removed]",
      "text/plain": [
       "<Figure size 640x480 with 1 Axes>"
      ]
     },
     "metadata": {},
     "output_type": "display_data"
    }
   ],
   "source": [
    "plt.plot(l1_ratios, train_mse, label='Train MSE', marker = 'o')\n",
    "plt.plot(l1_ratios, test_mse, label='Test MSE', marker = 'o')\n",
    "plt.xlabel('Alpha')\n",
    "plt.ylabel('Mean Squared Error')\n",
    "plt.title('MSE vs Alpha')\n",
    "plt.legend()\n",
    "plt.grid(True)\n",
    "plt.show()"
   ]
  },
  {
   "cell_type": "code",
   "execution_count": 52,
   "id": "0e62cfdb-7ef6-4ce6-860f-76de64de8283",
   "metadata": {},
   "outputs": [
    {
     "name": "stdout",
     "output_type": "stream",
     "text": [
      "1918685086.754377\n"
     ]
    }
   ],
   "source": [
    "y_pred = model.predict(X_test)\n",
    "\n",
    "mse_test_train = mean_squared_error(y_test, y_pred)\n",
    "\n",
    "print(f\"{mse_test_train}\")\n",
    "# Mean for X_test and y_test"
   ]
  },
  {
   "cell_type": "code",
   "execution_count": 54,
   "id": "6cbf277e-b247-4aa9-85e5-98d621fd521c",
   "metadata": {},
   "outputs": [
    {
     "name": "stdout",
     "output_type": "stream",
     "text": [
      "Best alpha: 0.3593813663804626\n",
      "Best l1_ratio: 0.6666666666666666\n",
      "Best MSE: 1903579414.4782434\n"
     ]
    }
   ],
   "source": [
    "X_train, X_test, y_train, y_test = train_test_split(X, y, test_size=400, random_state=0)\n",
    "#warnings.filterwarnings('ignore')\n",
    "\n",
    "alphas = np.logspace(-4, 4, 10)\n",
    "l1_ratios = np.linspace(0, 1, 10)\n",
    "\n",
    "best_alpha = 0\n",
    "best_l1_ratio = 0\n",
    "best_mse = float('inf') # Assumes value is infinity.\n",
    "\n",
    "for alpha in alphas:\n",
    "    for l1_ratio in l1_ratios:\n",
    "        model = ElasticNet(alpha=alpha, l1_ratio=l1_ratio, max_iter=10000)\n",
    "        model.fit(X_train, y_train)\n",
    "        y_pred = model.predict(X_test)\n",
    "        mse = mean_squared_error(y_test, y_pred)\n",
    "        '''if alpha == 0:\n",
    "            best_mse = mse'''\n",
    "        if mse < best_mse:\n",
    "            best_mse = mse\n",
    "            best_alpha = alpha\n",
    "            best_l1_ratio = l1_ratio\n",
    "\n",
    "print(f\"Best alpha: {best_alpha}\")\n",
    "print(f\"Best l1_ratio: {best_l1_ratio}\")\n",
    "print(f\"Best MSE: {best_mse}\")"
   ]
  },
  {
   "cell_type": "code",
   "execution_count": 55,
   "id": "7dac3f07-bd60-4ea2-a284-21532bcea517",
   "metadata": {},
   "outputs": [],
   "source": [
    "model = ElasticNet(alpha=0.3593813663804626, l1_ratio=0.6666666666666666, max_iter=10000)\n",
    "model.fit(X, y)\n",
    "\n",
    "y_testing2 = model.predict(X_2)\n",
    "\n",
    "Id = 1461\n",
    "y_testing_list = y_testing2.tolist()"
   ]
  },
  {
   "cell_type": "code",
   "execution_count": null,
   "id": "4da2f2ef-f516-44e4-bd84-f8b9eadb7614",
   "metadata": {},
   "outputs": [],
   "source": []
  }
 ],
 "metadata": {
  "kernelspec": {
   "display_name": "Python 3 (ipykernel)",
   "language": "python",
   "name": "python3"
  },
  "language_info": {
   "codemirror_mode": {
    "name": "ipython",
    "version": 3
   },
   "file_extension": ".py",
   "mimetype": "text/x-python",
   "name": "python",
   "nbconvert_exporter": "python",
   "pygments_lexer": "ipython3",
   "version": "3.12.5"
  }
 },
 "nbformat": 4,
 "nbformat_minor": 5
}
